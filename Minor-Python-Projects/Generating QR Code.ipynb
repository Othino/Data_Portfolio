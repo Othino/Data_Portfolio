{
 "cells": [
  {
   "cell_type": "code",
   "execution_count": null,
   "id": "cb05e8ec",
   "metadata": {},
   "outputs": [],
   "source": [
    "pip install pypng"
   ]
  },
  {
   "cell_type": "code",
   "execution_count": 6,
   "id": "a721090d",
   "metadata": {},
   "outputs": [
    {
     "name": "stdout",
     "output_type": "stream",
     "text": [
      "Enter anything to generate the QR code : https://twitter.com/_NafulaC\n"
     ]
    },
    {
     "data": {
      "image/png": "[encoded data removed]",
      "text/plain": [
       "<PIL.PngImagePlugin.PngImageFile image mode=1 size=328x328 at 0x1D8D592E820>"
      ]
     },
     "execution_count": 6,
     "metadata": {},
     "output_type": "execute_result"
    }
   ],
   "source": [
    "#import qr code\n",
    "import pyqrcode\n",
    "\n",
    "#import PIL\n",
    "from PIL import Image\n",
    "\n",
    "#create input function\n",
    "link = input (\"Enter anything to generate the QR code : \")\n",
    "qr_code = pyqrcode.create (link)\n",
    "qr_code.png (\"QRCode.png\", scale = 8)\n",
    "Image.open(\"QRCode.png\")"
   ]
  }
 ],
 "metadata": {
  "kernelspec": {
   "display_name": "Python 3 (ipykernel)",
   "language": "python",
   "name": "python3"
  },
  "language_info": {
   "codemirror_mode": {
    "name": "ipython",
    "version": 3
   },
   "file_extension": ".py",
   "mimetype": "text/x-python",
   "name": "python",
   "nbconvert_exporter": "python",
   "pygments_lexer": "ipython3",
   "version": "3.9.7"
  }
 },
 "nbformat": 4,
 "nbformat_minor": 5
}
