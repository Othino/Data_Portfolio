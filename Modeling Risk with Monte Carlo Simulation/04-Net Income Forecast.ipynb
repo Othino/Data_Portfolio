{
 "cells": [
  {
   "cell_type": "markdown",
   "metadata": {
    "id": "2EVsA8SlLvqM"
   },
   "source": [
    "# Net Income Forecast"
   ]
  },
  {
   "cell_type": "markdown",
   "metadata": {},
   "source": [
    "### Import Packages"
   ]
  },
  {
   "cell_type": "code",
   "execution_count": 1,
   "metadata": {
    "id": "9ugexl03LvqN"
   },
   "outputs": [],
   "source": [
    "import numpy as np\n",
    "import matplotlib.pyplot as plt"
   ]
  },
  {
   "cell_type": "markdown",
   "metadata": {
    "id": "EmEnIwCJLvqO"
   },
   "source": [
    "### Distributions - Assumptions"
   ]
  },
  {
   "cell_type": "code",
   "execution_count": 2,
   "metadata": {
    "id": "g6M6d73WLvqQ"
   },
   "outputs": [],
   "source": [
    "# Create variables for assumptions \n",
    "sales_mean = 50\n",
    "sales_std = 5\n",
    "COGS_mean = 0.15\n",
    "COGS_std = 0.1"
   ]
  },
  {
   "cell_type": "markdown",
   "metadata": {
    "id": "LvlfcZIFLvqQ"
   },
   "source": [
    "### Simulations - Simulate Sales, COGS, and Net Income"
   ]
  },
  {
   "cell_type": "code",
   "execution_count": 3,
   "metadata": {
    "colab": {
     "base_uri": "https://localhost:8080/"
    },
    "executionInfo": {
     "elapsed": 195,
     "status": "ok",
     "timestamp": 1623859965683,
     "user": {
      "displayName": "Lester Leong",
      "photoUrl": "https://lh3.googleusercontent.com/a-/AOh14GhESsAP_U-p-CX8EsBjBg4EszjEo6Qb0zr-LMf14g=s64",
      "userId": "17427307644910609596"
     },
     "user_tz": 300
    },
    "id": "O0ngYvOsLvqS",
    "outputId": "a5195986-1b56-4210-c20e-fffa422cc79c"
   },
   "outputs": [
    {
     "name": "stdout",
     "output_type": "stream",
     "text": [
      "[44.70694427 46.34833227 46.0307834  ... 47.2539088  46.46681064\n",
      " 41.98483555]\n",
      "mean: 50.076129775508775\n",
      "std: 4.9414226338994665\n"
     ]
    }
   ],
   "source": [
    "# Generate sales samples \n",
    "simulations = 10000\n",
    "sales_sims = np.random.normal(sales_mean, sales_std, simulations)\n",
    "\n",
    "print(sales_sims)\n",
    "print(\"mean:\", np.mean(sales_sims))\n",
    "print(\"std:\", np.std(sales_sims))"
   ]
  },
  {
   "cell_type": "code",
   "execution_count": 4,
   "metadata": {
    "id": "XPJq6fzJLvqU"
   },
   "outputs": [],
   "source": [
    "# Generate COGS samples\n",
    "COGS_sims = - (sales_sims * np.random.normal(COGS_mean,COGS_std))\n",
    "\n",
    "# Generate net income simulations\n",
    "profit_sims = sales_sims + COGS_sims"
   ]
  },
  {
   "cell_type": "markdown",
   "metadata": {
    "id": "uQevRhBELvqU"
   },
   "source": [
    "### Quantifications - Examine the Worst, Average, Best scenarios and the Probability Distribution"
   ]
  },
  {
   "cell_type": "code",
   "execution_count": 5,
   "metadata": {
    "colab": {
     "base_uri": "https://localhost:8080/"
    },
    "executionInfo": {
     "elapsed": 8,
     "status": "ok",
     "timestamp": 1623859965684,
     "user": {
      "displayName": "Lester Leong",
      "photoUrl": "https://lh3.googleusercontent.com/a-/AOh14GhESsAP_U-p-CX8EsBjBg4EszjEo6Qb0zr-LMf14g=s64",
      "userId": "17427307644910609596"
     },
     "user_tz": 300
    },
    "id": "lj7wKKR3LvqV",
    "outputId": "485c690f-ab8c-4726-b73e-2864ce770b10",
    "scrolled": true
   },
   "outputs": [
    {
     "name": "stdout",
     "output_type": "stream",
     "text": [
      "Worst case: 27.474464294247483\n",
      "Average case: 43.85224036196853\n",
      "Best case: 59.64574571442992\n"
     ]
    }
   ],
   "source": [
    "# Examine the worst, average, and best cases\n",
    "print(\"Worst case:\", min(profit_sims))\n",
    "print(\"Average case:\", profit_sims.mean())\n",
    "print(\"Best case:\", max(profit_sims))"
   ]
  },
  {
   "cell_type": "code",
   "execution_count": 6,
   "metadata": {
    "colab": {
     "base_uri": "https://localhost:8080/",
     "height": 299
    },
    "executionInfo": {
     "elapsed": 159,
     "status": "ok",
     "timestamp": 1623859965840,
     "user": {
      "displayName": "Lester Leong",
      "photoUrl": "https://lh3.googleusercontent.com/a-/AOh14GhESsAP_U-p-CX8EsBjBg4EszjEo6Qb0zr-LMf14g=s64",
      "userId": "17427307644910609596"
     },
     "user_tz": 300
    },
    "id": "3boFHWGeLvqW",
    "outputId": "05e20f58-ed0a-4aff-d075-f38b9b10cce3"
   },
   "outputs": [
    {
     "data": {
      "image/png": "[encoded data removed]",
      "text/plain": [
       "<Figure size 432x288 with 1 Axes>"
      ]
     },
     "metadata": {
      "needs_background": "light"
     },
     "output_type": "display_data"
    },
    {
     "name": "stdout",
     "output_type": "stream",
     "text": [
      "68% profit range: $39.52 and $48.18\n",
      "95% profit range: $35.2 and $52.51\n"
     ]
    }
   ],
   "source": [
    "# Set up confidence intervals\n",
    "upper68 = profit_sims.mean()+profit_sims.std()\n",
    "lower68 = profit_sims.mean()-profit_sims.std()\n",
    "upper95 = profit_sims.mean()+profit_sims.std()*2\n",
    "lower95 = profit_sims.mean()-profit_sims.std()*2\n",
    "\n",
    "# Plot the probability distribution\n",
    "plt.hist(profit_sims, bins = 20);\n",
    "plt.axvline(upper68, color = 'k', linestyle='dashed', linewidth=1)\n",
    "plt.axvline(lower68, color = 'k', linestyle='dashed', linewidth=1)\n",
    "plt.axvline(upper95, color = 'k', linestyle='dashed', linewidth=1)\n",
    "plt.axvline(lower95, color = 'k', linestyle='dashed', linewidth=1)\n",
    "plt.show()\n",
    "\n",
    "# Print out confidence intervals\n",
    "print(f\"68% profit range: ${round(lower68,2)} and ${round(upper68,2)}\")\n",
    "print(f\"95% profit range: ${round(lower95,2)} and ${round(upper95,2)}\")"
   ]
  },
  {
   "cell_type": "code",
   "execution_count": null,
   "metadata": {
    "id": "TrYbwsWiLvqY"
   },
   "outputs": [],
   "source": []
  }
 ],
 "metadata": {
  "colab": {
   "name": "04-Net Income Forecast V2 (with script).ipynb",
   "provenance": []
  },
  "kernelspec": {
   "display_name": "Python 3",
   "language": "python",
   "name": "python3"
  },
  "language_info": {
   "codemirror_mode": {
    "name": "ipython",
    "version": 3
   },
   "file_extension": ".py",
   "mimetype": "text/x-python",
   "name": "python",
   "nbconvert_exporter": "python",
   "pygments_lexer": "ipython3",
   "version": "3.7.3"
  }
 },
 "nbformat": 4,
 "nbformat_minor": 1
}
